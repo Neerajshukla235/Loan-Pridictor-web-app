{
 "cells": [
  {
   "cell_type": "code",
   "execution_count": 1,
   "id": "ae9b5e84",
   "metadata": {},
   "outputs": [],
   "source": [
    "import pandas as pd\n",
    "import numpy as np\n",
    "import matplotlib.pyplot as plt\n",
    "import seaborn as sns\n",
    "from sklearn.linear_model import LogisticRegression\n",
    "import pickle"
   ]
  },
  {
   "cell_type": "code",
   "execution_count": 2,
   "id": "f08d2612",
   "metadata": {},
   "outputs": [],
   "source": [
    "data= pd.read_csv(r'C:\\Users\\Neeraj\\Project of ML\\Banking Loan Project\\Loan_dataset.csv')"
   ]
  },
  {
   "cell_type": "code",
   "execution_count": 3,
   "id": "1c712e28",
   "metadata": {},
   "outputs": [
    {
     "data": {
      "text/html": [
       "<div>\n",
       "<style scoped>\n",
       "    .dataframe tbody tr th:only-of-type {\n",
       "        vertical-align: middle;\n",
       "    }\n",
       "\n",
       "    .dataframe tbody tr th {\n",
       "        vertical-align: top;\n",
       "    }\n",
       "\n",
       "    .dataframe thead th {\n",
       "        text-align: right;\n",
       "    }\n",
       "</style>\n",
       "<table border=\"1\" class=\"dataframe\">\n",
       "  <thead>\n",
       "    <tr style=\"text-align: right;\">\n",
       "      <th></th>\n",
       "      <th>Loan_ID</th>\n",
       "      <th>Gender</th>\n",
       "      <th>Married</th>\n",
       "      <th>Dependent_No</th>\n",
       "      <th>Education</th>\n",
       "      <th>Self_Employed</th>\n",
       "      <th>Applicant_Income</th>\n",
       "      <th>CoApplicant_Income</th>\n",
       "      <th>Loan_Amount</th>\n",
       "      <th>Loan_Amount_Term</th>\n",
       "      <th>Credit History</th>\n",
       "      <th>Property_District</th>\n",
       "      <th>Loan_Status</th>\n",
       "    </tr>\n",
       "  </thead>\n",
       "  <tbody>\n",
       "    <tr>\n",
       "      <th>0</th>\n",
       "      <td>23002</td>\n",
       "      <td>Male</td>\n",
       "      <td>True</td>\n",
       "      <td>3</td>\n",
       "      <td>Graduate</td>\n",
       "      <td>True</td>\n",
       "      <td>4315</td>\n",
       "      <td>19748.0</td>\n",
       "      <td>60000</td>\n",
       "      <td>300</td>\n",
       "      <td>1</td>\n",
       "      <td>OCR</td>\n",
       "      <td>1</td>\n",
       "    </tr>\n",
       "    <tr>\n",
       "      <th>1</th>\n",
       "      <td>23003</td>\n",
       "      <td>Female</td>\n",
       "      <td>True</td>\n",
       "      <td>3</td>\n",
       "      <td>Not Graduate</td>\n",
       "      <td>True</td>\n",
       "      <td>3331</td>\n",
       "      <td>29657.0</td>\n",
       "      <td>20000</td>\n",
       "      <td>60</td>\n",
       "      <td>0</td>\n",
       "      <td>OCR</td>\n",
       "      <td>1</td>\n",
       "    </tr>\n",
       "    <tr>\n",
       "      <th>2</th>\n",
       "      <td>23004</td>\n",
       "      <td>Male</td>\n",
       "      <td>True</td>\n",
       "      <td>3</td>\n",
       "      <td>Not Graduate</td>\n",
       "      <td>True</td>\n",
       "      <td>22494</td>\n",
       "      <td>29539.0</td>\n",
       "      <td>30000</td>\n",
       "      <td>240</td>\n",
       "      <td>1</td>\n",
       "      <td>RCR</td>\n",
       "      <td>1</td>\n",
       "    </tr>\n",
       "    <tr>\n",
       "      <th>3</th>\n",
       "      <td>23005</td>\n",
       "      <td>Male</td>\n",
       "      <td>True</td>\n",
       "      <td>2</td>\n",
       "      <td>Not Graduate</td>\n",
       "      <td>False</td>\n",
       "      <td>78117</td>\n",
       "      <td>12909.0</td>\n",
       "      <td>20000</td>\n",
       "      <td>60</td>\n",
       "      <td>0</td>\n",
       "      <td>OCR</td>\n",
       "      <td>1</td>\n",
       "    </tr>\n",
       "    <tr>\n",
       "      <th>4</th>\n",
       "      <td>23006</td>\n",
       "      <td>Male</td>\n",
       "      <td>False</td>\n",
       "      <td>2</td>\n",
       "      <td>Not Graduate</td>\n",
       "      <td>False</td>\n",
       "      <td>41976</td>\n",
       "      <td>45598.0</td>\n",
       "      <td>60000</td>\n",
       "      <td>300</td>\n",
       "      <td>1</td>\n",
       "      <td>RCR</td>\n",
       "      <td>1</td>\n",
       "    </tr>\n",
       "  </tbody>\n",
       "</table>\n",
       "</div>"
      ],
      "text/plain": [
       "   Loan_ID  Gender Married  Dependent_No     Education  Self_Employed  \\\n",
       "0    23002    Male    True             3      Graduate           True   \n",
       "1    23003  Female    True             3  Not Graduate           True   \n",
       "2    23004    Male    True             3  Not Graduate           True   \n",
       "3    23005    Male    True             2  Not Graduate          False   \n",
       "4    23006    Male   False             2  Not Graduate          False   \n",
       "\n",
       "   Applicant_Income  CoApplicant_Income  Loan_Amount  Loan_Amount_Term  \\\n",
       "0              4315             19748.0        60000               300   \n",
       "1              3331             29657.0        20000                60   \n",
       "2             22494             29539.0        30000               240   \n",
       "3             78117             12909.0        20000                60   \n",
       "4             41976             45598.0        60000               300   \n",
       "\n",
       "   Credit History Property_District  Loan_Status  \n",
       "0               1               OCR            1  \n",
       "1               0               OCR            1  \n",
       "2               1               RCR            1  \n",
       "3               0               OCR            1  \n",
       "4               1               RCR            1  "
      ]
     },
     "execution_count": 3,
     "metadata": {},
     "output_type": "execute_result"
    }
   ],
   "source": [
    "data.head()"
   ]
  },
  {
   "cell_type": "code",
   "execution_count": 4,
   "id": "ea45251d",
   "metadata": {},
   "outputs": [
    {
     "data": {
      "text/plain": [
       "(5584, 13)"
      ]
     },
     "execution_count": 4,
     "metadata": {},
     "output_type": "execute_result"
    }
   ],
   "source": [
    "data.shape"
   ]
  },
  {
   "cell_type": "code",
   "execution_count": 5,
   "id": "f7820a46",
   "metadata": {},
   "outputs": [
    {
     "data": {
      "text/plain": [
       "Loan_ID                 0\n",
       "Gender                159\n",
       "Married               256\n",
       "Dependent_No            0\n",
       "Education             366\n",
       "Self_Employed           0\n",
       "Applicant_Income        0\n",
       "CoApplicant_Income    585\n",
       "Loan_Amount             0\n",
       "Loan_Amount_Term        0\n",
       "Credit History          0\n",
       "Property_District       6\n",
       "Loan_Status             0\n",
       "dtype: int64"
      ]
     },
     "execution_count": 5,
     "metadata": {},
     "output_type": "execute_result"
    }
   ],
   "source": [
    "data.isnull().sum()"
   ]
  },
  {
   "cell_type": "code",
   "execution_count": 6,
   "id": "5c7f75e1",
   "metadata": {},
   "outputs": [],
   "source": [
    "data.Married.fillna(data.Married.mode()[0],inplace=True)\n",
    "data.CoApplicant_Income.fillna(data.CoApplicant_Income.median(),inplace=True)\n",
    "data.Loan_Amount_Term.fillna(data.Loan_Amount_Term.mean(),inplace=True)\n",
    "data.Gender.fillna(np.random.randint(0,2),inplace=True)"
   ]
  },
  {
   "cell_type": "code",
   "execution_count": 7,
   "id": "56540e3e",
   "metadata": {},
   "outputs": [
    {
     "data": {
      "text/html": [
       "<div>\n",
       "<style scoped>\n",
       "    .dataframe tbody tr th:only-of-type {\n",
       "        vertical-align: middle;\n",
       "    }\n",
       "\n",
       "    .dataframe tbody tr th {\n",
       "        vertical-align: top;\n",
       "    }\n",
       "\n",
       "    .dataframe thead th {\n",
       "        text-align: right;\n",
       "    }\n",
       "</style>\n",
       "<table border=\"1\" class=\"dataframe\">\n",
       "  <thead>\n",
       "    <tr style=\"text-align: right;\">\n",
       "      <th></th>\n",
       "      <th>Loan_ID</th>\n",
       "      <th>Gender</th>\n",
       "      <th>Married</th>\n",
       "      <th>Dependent_No</th>\n",
       "      <th>Education</th>\n",
       "      <th>Self_Employed</th>\n",
       "      <th>Applicant_Income</th>\n",
       "      <th>CoApplicant_Income</th>\n",
       "      <th>Loan_Amount</th>\n",
       "      <th>Loan_Amount_Term</th>\n",
       "      <th>Credit History</th>\n",
       "      <th>Property_District</th>\n",
       "      <th>Loan_Status</th>\n",
       "    </tr>\n",
       "  </thead>\n",
       "  <tbody>\n",
       "    <tr>\n",
       "      <th>0</th>\n",
       "      <td>23002</td>\n",
       "      <td>Male</td>\n",
       "      <td>True</td>\n",
       "      <td>3</td>\n",
       "      <td>Graduate</td>\n",
       "      <td>True</td>\n",
       "      <td>4315</td>\n",
       "      <td>19748.0</td>\n",
       "      <td>60000</td>\n",
       "      <td>300</td>\n",
       "      <td>1</td>\n",
       "      <td>OCR</td>\n",
       "      <td>1</td>\n",
       "    </tr>\n",
       "    <tr>\n",
       "      <th>1</th>\n",
       "      <td>23003</td>\n",
       "      <td>Female</td>\n",
       "      <td>True</td>\n",
       "      <td>3</td>\n",
       "      <td>Not Graduate</td>\n",
       "      <td>True</td>\n",
       "      <td>3331</td>\n",
       "      <td>29657.0</td>\n",
       "      <td>20000</td>\n",
       "      <td>60</td>\n",
       "      <td>0</td>\n",
       "      <td>OCR</td>\n",
       "      <td>1</td>\n",
       "    </tr>\n",
       "    <tr>\n",
       "      <th>2</th>\n",
       "      <td>23004</td>\n",
       "      <td>Male</td>\n",
       "      <td>True</td>\n",
       "      <td>3</td>\n",
       "      <td>Not Graduate</td>\n",
       "      <td>True</td>\n",
       "      <td>22494</td>\n",
       "      <td>29539.0</td>\n",
       "      <td>30000</td>\n",
       "      <td>240</td>\n",
       "      <td>1</td>\n",
       "      <td>RCR</td>\n",
       "      <td>1</td>\n",
       "    </tr>\n",
       "    <tr>\n",
       "      <th>3</th>\n",
       "      <td>23005</td>\n",
       "      <td>Male</td>\n",
       "      <td>True</td>\n",
       "      <td>2</td>\n",
       "      <td>Not Graduate</td>\n",
       "      <td>False</td>\n",
       "      <td>78117</td>\n",
       "      <td>12909.0</td>\n",
       "      <td>20000</td>\n",
       "      <td>60</td>\n",
       "      <td>0</td>\n",
       "      <td>OCR</td>\n",
       "      <td>1</td>\n",
       "    </tr>\n",
       "    <tr>\n",
       "      <th>4</th>\n",
       "      <td>23006</td>\n",
       "      <td>Male</td>\n",
       "      <td>False</td>\n",
       "      <td>2</td>\n",
       "      <td>Not Graduate</td>\n",
       "      <td>False</td>\n",
       "      <td>41976</td>\n",
       "      <td>45598.0</td>\n",
       "      <td>60000</td>\n",
       "      <td>300</td>\n",
       "      <td>1</td>\n",
       "      <td>RCR</td>\n",
       "      <td>1</td>\n",
       "    </tr>\n",
       "  </tbody>\n",
       "</table>\n",
       "</div>"
      ],
      "text/plain": [
       "   Loan_ID  Gender  Married  Dependent_No     Education  Self_Employed  \\\n",
       "0    23002    Male     True             3      Graduate           True   \n",
       "1    23003  Female     True             3  Not Graduate           True   \n",
       "2    23004    Male     True             3  Not Graduate           True   \n",
       "3    23005    Male     True             2  Not Graduate          False   \n",
       "4    23006    Male    False             2  Not Graduate          False   \n",
       "\n",
       "   Applicant_Income  CoApplicant_Income  Loan_Amount  Loan_Amount_Term  \\\n",
       "0              4315             19748.0        60000               300   \n",
       "1              3331             29657.0        20000                60   \n",
       "2             22494             29539.0        30000               240   \n",
       "3             78117             12909.0        20000                60   \n",
       "4             41976             45598.0        60000               300   \n",
       "\n",
       "   Credit History Property_District  Loan_Status  \n",
       "0               1               OCR            1  \n",
       "1               0               OCR            1  \n",
       "2               1               RCR            1  \n",
       "3               0               OCR            1  \n",
       "4               1               RCR            1  "
      ]
     },
     "execution_count": 7,
     "metadata": {},
     "output_type": "execute_result"
    }
   ],
   "source": [
    "data.head()"
   ]
  },
  {
   "cell_type": "code",
   "execution_count": 8,
   "id": "4c55b1d0",
   "metadata": {},
   "outputs": [
    {
     "data": {
      "text/plain": [
       "Loan_ID                 0\n",
       "Gender                  0\n",
       "Married                 0\n",
       "Dependent_No            0\n",
       "Education             366\n",
       "Self_Employed           0\n",
       "Applicant_Income        0\n",
       "CoApplicant_Income      0\n",
       "Loan_Amount             0\n",
       "Loan_Amount_Term        0\n",
       "Credit History          0\n",
       "Property_District       6\n",
       "Loan_Status             0\n",
       "dtype: int64"
      ]
     },
     "execution_count": 8,
     "metadata": {},
     "output_type": "execute_result"
    }
   ],
   "source": [
    "data.isnull().sum()"
   ]
  },
  {
   "cell_type": "code",
   "execution_count": 9,
   "id": "9c6d478e",
   "metadata": {},
   "outputs": [],
   "source": [
    "data.Education.fillna(data.Education.mode()[0],inplace=True)"
   ]
  },
  {
   "cell_type": "code",
   "execution_count": 10,
   "id": "5868af72",
   "metadata": {},
   "outputs": [
    {
     "data": {
      "text/plain": [
       "Loan_ID               0\n",
       "Gender                0\n",
       "Married               0\n",
       "Dependent_No          0\n",
       "Education             0\n",
       "Self_Employed         0\n",
       "Applicant_Income      0\n",
       "CoApplicant_Income    0\n",
       "Loan_Amount           0\n",
       "Loan_Amount_Term      0\n",
       "Credit History        0\n",
       "Property_District     6\n",
       "Loan_Status           0\n",
       "dtype: int64"
      ]
     },
     "execution_count": 10,
     "metadata": {},
     "output_type": "execute_result"
    }
   ],
   "source": [
    "data.isnull().sum()"
   ]
  },
  {
   "cell_type": "code",
   "execution_count": 11,
   "id": "c0367c58",
   "metadata": {},
   "outputs": [
    {
     "data": {
      "text/plain": [
       "(5584, 13)"
      ]
     },
     "execution_count": 11,
     "metadata": {},
     "output_type": "execute_result"
    }
   ],
   "source": [
    "data.shape"
   ]
  },
  {
   "cell_type": "code",
   "execution_count": 12,
   "id": "92940ca1",
   "metadata": {},
   "outputs": [
    {
     "name": "stdout",
     "output_type": "stream",
     "text": [
      "<class 'pandas.core.frame.DataFrame'>\n",
      "RangeIndex: 5584 entries, 0 to 5583\n",
      "Data columns (total 13 columns):\n",
      " #   Column              Non-Null Count  Dtype  \n",
      "---  ------              --------------  -----  \n",
      " 0   Loan_ID             5584 non-null   int64  \n",
      " 1   Gender              5584 non-null   object \n",
      " 2   Married             5584 non-null   bool   \n",
      " 3   Dependent_No        5584 non-null   int64  \n",
      " 4   Education           5584 non-null   object \n",
      " 5   Self_Employed       5584 non-null   bool   \n",
      " 6   Applicant_Income    5584 non-null   int64  \n",
      " 7   CoApplicant_Income  5584 non-null   float64\n",
      " 8   Loan_Amount         5584 non-null   int64  \n",
      " 9   Loan_Amount_Term    5584 non-null   int64  \n",
      " 10  Credit History      5584 non-null   int64  \n",
      " 11  Property_District   5578 non-null   object \n",
      " 12  Loan_Status         5584 non-null   int64  \n",
      "dtypes: bool(2), float64(1), int64(7), object(3)\n",
      "memory usage: 490.9+ KB\n"
     ]
    }
   ],
   "source": [
    "data.info()"
   ]
  },
  {
   "cell_type": "code",
   "execution_count": 13,
   "id": "e8e95c5a",
   "metadata": {},
   "outputs": [],
   "source": [
    "data=data.drop(['Loan_ID'],axis=1)"
   ]
  },
  {
   "cell_type": "code",
   "execution_count": 14,
   "id": "a0b33232",
   "metadata": {},
   "outputs": [
    {
     "name": "stdout",
     "output_type": "stream",
     "text": [
      "<class 'pandas.core.frame.DataFrame'>\n",
      "RangeIndex: 5584 entries, 0 to 5583\n",
      "Data columns (total 12 columns):\n",
      " #   Column              Non-Null Count  Dtype  \n",
      "---  ------              --------------  -----  \n",
      " 0   Gender              5584 non-null   object \n",
      " 1   Married             5584 non-null   bool   \n",
      " 2   Dependent_No        5584 non-null   int64  \n",
      " 3   Education           5584 non-null   object \n",
      " 4   Self_Employed       5584 non-null   bool   \n",
      " 5   Applicant_Income    5584 non-null   int64  \n",
      " 6   CoApplicant_Income  5584 non-null   float64\n",
      " 7   Loan_Amount         5584 non-null   int64  \n",
      " 8   Loan_Amount_Term    5584 non-null   int64  \n",
      " 9   Credit History      5584 non-null   int64  \n",
      " 10  Property_District   5578 non-null   object \n",
      " 11  Loan_Status         5584 non-null   int64  \n",
      "dtypes: bool(2), float64(1), int64(6), object(3)\n",
      "memory usage: 447.3+ KB\n"
     ]
    }
   ],
   "source": [
    "data.info()"
   ]
  },
  {
   "cell_type": "code",
   "execution_count": 15,
   "id": "1e65943f",
   "metadata": {},
   "outputs": [
    {
     "data": {
      "image/png": "[encoded data removed]",
      "text/plain": [
       "<Figure size 1080x288 with 4 Axes>"
      ]
     },
     "metadata": {
      "needs_background": "light"
     },
     "output_type": "display_data"
    }
   ],
   "source": [
    "plt.figure(figsize=(15,4))\n",
    "plt.subplot(1,4,1)\n",
    "data.Dependent_No.plot(kind='box')\n",
    "plt.subplot(1,4,2)\n",
    "data.Applicant_Income.plot(kind='box')\n",
    "plt.subplot(1,4,3)\n",
    "data.CoApplicant_Income.plot(kind='box')\n",
    "plt.subplot(1,4,4)\n",
    "data.Loan_Amount.plot(kind='box')\n",
    "plt.show()"
   ]
  },
  {
   "cell_type": "code",
   "execution_count": 16,
   "id": "b4fb384d",
   "metadata": {},
   "outputs": [],
   "source": [
    "data['Self_Employed']=data['Self_Employed'].astype(str)"
   ]
  },
  {
   "cell_type": "code",
   "execution_count": 17,
   "id": "8a9d18c0",
   "metadata": {},
   "outputs": [],
   "source": [
    "col=list(data.columns)"
   ]
  },
  {
   "cell_type": "code",
   "execution_count": 18,
   "id": "4ab4e88a",
   "metadata": {},
   "outputs": [
    {
     "data": {
      "image/png": "[encoded data removed]",
      "text/plain": [
       "<Figure size 1296x720 with 2 Axes>"
      ]
     },
     "metadata": {
      "needs_background": "light"
     },
     "output_type": "display_data"
    }
   ],
   "source": [
    "plt.figure(figsize=(18,10))\n",
    "sns.heatmap(data.corr(),annot=True)\n",
    "plt.show()"
   ]
  },
  {
   "cell_type": "code",
   "execution_count": 19,
   "id": "be1bded3",
   "metadata": {},
   "outputs": [],
   "source": [
    "col_list=[]\n",
    "for col in data.columns:\n",
    "    if((data[col].dtypes!=object)&(col!='Loan_Status')):\n",
    "        col_list.append(col)"
   ]
  },
  {
   "cell_type": "code",
   "execution_count": 20,
   "id": "03cd46e8",
   "metadata": {},
   "outputs": [
    {
     "data": {
      "text/plain": [
       "['Married',\n",
       " 'Dependent_No',\n",
       " 'Applicant_Income',\n",
       " 'CoApplicant_Income',\n",
       " 'Loan_Amount',\n",
       " 'Loan_Amount_Term',\n",
       " 'Credit History']"
      ]
     },
     "execution_count": 20,
     "metadata": {},
     "output_type": "execute_result"
    }
   ],
   "source": [
    "col_list"
   ]
  },
  {
   "cell_type": "code",
   "execution_count": 21,
   "id": "e6c4af1b",
   "metadata": {},
   "outputs": [],
   "source": [
    "X=data[col_list]"
   ]
  },
  {
   "cell_type": "code",
   "execution_count": 22,
   "id": "a497826a",
   "metadata": {},
   "outputs": [],
   "source": [
    "variables = data[[\n",
    " 'Dependent_No',\n",
    " 'Applicant_Income',\n",
    " 'CoApplicant_Income',\n",
    " 'Loan_Amount',\n",
    " 'Loan_Amount_Term',\n",
    " 'Credit History']]"
   ]
  },
  {
   "cell_type": "code",
   "execution_count": 23,
   "id": "72781081",
   "metadata": {},
   "outputs": [],
   "source": [
    "vif = pd.DataFrame()"
   ]
  },
  {
   "cell_type": "code",
   "execution_count": 24,
   "id": "11eed8ad",
   "metadata": {},
   "outputs": [],
   "source": [
    "from statsmodels.stats.outliers_influence import variance_inflation_factor"
   ]
  },
  {
   "cell_type": "code",
   "execution_count": 25,
   "id": "63668ca1",
   "metadata": {},
   "outputs": [],
   "source": [
    "vif[\"VIF\"] = [variance_inflation_factor(variables.values, i) for i in range(variables.shape[1])]"
   ]
  },
  {
   "cell_type": "code",
   "execution_count": 26,
   "id": "e3787d7d",
   "metadata": {},
   "outputs": [
    {
     "data": {
      "text/html": [
       "<div>\n",
       "<style scoped>\n",
       "    .dataframe tbody tr th:only-of-type {\n",
       "        vertical-align: middle;\n",
       "    }\n",
       "\n",
       "    .dataframe tbody tr th {\n",
       "        vertical-align: top;\n",
       "    }\n",
       "\n",
       "    .dataframe thead th {\n",
       "        text-align: right;\n",
       "    }\n",
       "</style>\n",
       "<table border=\"1\" class=\"dataframe\">\n",
       "  <thead>\n",
       "    <tr style=\"text-align: right;\">\n",
       "      <th></th>\n",
       "      <th>VIF</th>\n",
       "      <th>Features</th>\n",
       "    </tr>\n",
       "  </thead>\n",
       "  <tbody>\n",
       "    <tr>\n",
       "      <th>0</th>\n",
       "      <td>2.712679</td>\n",
       "      <td>Dependent_No</td>\n",
       "    </tr>\n",
       "    <tr>\n",
       "      <th>1</th>\n",
       "      <td>3.514181</td>\n",
       "      <td>Applicant_Income</td>\n",
       "    </tr>\n",
       "    <tr>\n",
       "      <th>2</th>\n",
       "      <td>3.739200</td>\n",
       "      <td>CoApplicant_Income</td>\n",
       "    </tr>\n",
       "    <tr>\n",
       "      <th>3</th>\n",
       "      <td>4.150041</td>\n",
       "      <td>Loan_Amount</td>\n",
       "    </tr>\n",
       "    <tr>\n",
       "      <th>4</th>\n",
       "      <td>4.208368</td>\n",
       "      <td>Loan_Amount_Term</td>\n",
       "    </tr>\n",
       "    <tr>\n",
       "      <th>5</th>\n",
       "      <td>2.680098</td>\n",
       "      <td>Credit History</td>\n",
       "    </tr>\n",
       "  </tbody>\n",
       "</table>\n",
       "</div>"
      ],
      "text/plain": [
       "        VIF            Features\n",
       "0  2.712679        Dependent_No\n",
       "1  3.514181    Applicant_Income\n",
       "2  3.739200  CoApplicant_Income\n",
       "3  4.150041         Loan_Amount\n",
       "4  4.208368    Loan_Amount_Term\n",
       "5  2.680098      Credit History"
      ]
     },
     "execution_count": 26,
     "metadata": {},
     "output_type": "execute_result"
    }
   ],
   "source": [
    "vif[\"Features\"] = variables.columns\n",
    "vif"
   ]
  },
  {
   "cell_type": "code",
   "execution_count": 27,
   "id": "d047d5d6",
   "metadata": {},
   "outputs": [
    {
     "name": "stdout",
     "output_type": "stream",
     "text": [
      "<class 'pandas.core.frame.DataFrame'>\n",
      "RangeIndex: 5584 entries, 0 to 5583\n",
      "Data columns (total 12 columns):\n",
      " #   Column              Non-Null Count  Dtype  \n",
      "---  ------              --------------  -----  \n",
      " 0   Gender              5584 non-null   object \n",
      " 1   Married             5584 non-null   bool   \n",
      " 2   Dependent_No        5584 non-null   int64  \n",
      " 3   Education           5584 non-null   object \n",
      " 4   Self_Employed       5584 non-null   object \n",
      " 5   Applicant_Income    5584 non-null   int64  \n",
      " 6   CoApplicant_Income  5584 non-null   float64\n",
      " 7   Loan_Amount         5584 non-null   int64  \n",
      " 8   Loan_Amount_Term    5584 non-null   int64  \n",
      " 9   Credit History      5584 non-null   int64  \n",
      " 10  Property_District   5578 non-null   object \n",
      " 11  Loan_Status         5584 non-null   int64  \n",
      "dtypes: bool(1), float64(1), int64(6), object(4)\n",
      "memory usage: 485.5+ KB\n"
     ]
    }
   ],
   "source": [
    "data.info()"
   ]
  },
  {
   "cell_type": "code",
   "execution_count": 31,
   "id": "68667c3a",
   "metadata": {},
   "outputs": [
    {
     "ename": "NameError",
     "evalue": "name 'df' is not defined",
     "output_type": "error",
     "traceback": [
      "\u001b[1;31m---------------------------------------------------------------------------\u001b[0m",
      "\u001b[1;31mNameError\u001b[0m                                 Traceback (most recent call last)",
      "Input \u001b[1;32mIn [31]\u001b[0m, in \u001b[0;36m<cell line: 1>\u001b[1;34m()\u001b[0m\n\u001b[1;32m----> 1\u001b[0m \u001b[43mdf\u001b[49m\n",
      "\u001b[1;31mNameError\u001b[0m: name 'df' is not defined"
     ]
    }
   ],
   "source": [
    "df"
   ]
  },
  {
   "cell_type": "code",
   "execution_count": 28,
   "id": "b1a5defb",
   "metadata": {},
   "outputs": [],
   "source": [
    "#df = pd.get_dummies(data, columns = ['Gender','Married','Education','Self_Employed','Property_District'],drop_first=True)"
   ]
  },
  {
   "cell_type": "code",
   "execution_count": 32,
   "id": "4e60c3f0",
   "metadata": {},
   "outputs": [],
   "source": [
    "df=data"
   ]
  },
  {
   "cell_type": "code",
   "execution_count": 34,
   "id": "38df6da0",
   "metadata": {},
   "outputs": [],
   "source": [
    "from sklearn import preprocessing\n",
    "label_encoder = preprocessing.LabelEncoder()\n",
    "#df['Gender']= label_encoder.fit_transform(df['Gender'])\n",
    "df['Married']= label_encoder.fit_transform(df['Married'])\n",
    "df['Self_Employed']= label_encoder.fit_transform(df['Self_Employed'])\n",
    "df['Education']= label_encoder.fit_transform(df['Education'])\n",
    "df['Property_District']= label_encoder.fit_transform(df['Property_District'])"
   ]
  },
  {
   "cell_type": "code",
   "execution_count": 35,
   "id": "0ef7245c",
   "metadata": {},
   "outputs": [
    {
     "name": "stdout",
     "output_type": "stream",
     "text": [
      "<class 'pandas.core.frame.DataFrame'>\n",
      "RangeIndex: 5584 entries, 0 to 5583\n",
      "Data columns (total 12 columns):\n",
      " #   Column              Non-Null Count  Dtype  \n",
      "---  ------              --------------  -----  \n",
      " 0   Gender              5584 non-null   object \n",
      " 1   Married             5584 non-null   int64  \n",
      " 2   Dependent_No        5584 non-null   int64  \n",
      " 3   Education           5584 non-null   int32  \n",
      " 4   Self_Employed       5584 non-null   int32  \n",
      " 5   Applicant_Income    5584 non-null   int64  \n",
      " 6   CoApplicant_Income  5584 non-null   float64\n",
      " 7   Loan_Amount         5584 non-null   int64  \n",
      " 8   Loan_Amount_Term    5584 non-null   int64  \n",
      " 9   Credit History      5584 non-null   int64  \n",
      " 10  Property_District   5584 non-null   int32  \n",
      " 11  Loan_Status         5584 non-null   int64  \n",
      "dtypes: float64(1), int32(3), int64(7), object(1)\n",
      "memory usage: 458.2+ KB\n"
     ]
    }
   ],
   "source": [
    "df.info()"
   ]
  },
  {
   "cell_type": "code",
   "execution_count": null,
   "id": "99b845d5",
   "metadata": {},
   "outputs": [],
   "source": []
  },
  {
   "cell_type": "code",
   "execution_count": null,
   "id": "058bc856",
   "metadata": {},
   "outputs": [],
   "source": [
    "df.head()"
   ]
  },
  {
   "cell_type": "code",
   "execution_count": null,
   "id": "608d5eed",
   "metadata": {},
   "outputs": [],
   "source": [
    "data.info()"
   ]
  },
  {
   "cell_type": "code",
   "execution_count": null,
   "id": "4f32f7b0",
   "metadata": {},
   "outputs": [],
   "source": [
    "df.info()"
   ]
  },
  {
   "cell_type": "code",
   "execution_count": 70,
   "id": "8616822a",
   "metadata": {},
   "outputs": [],
   "source": [
    "x=df[['Dependent_No','Education','Credit History']]\n",
    "y=data['Loan_Status']"
   ]
  },
  {
   "cell_type": "code",
   "execution_count": 71,
   "id": "5e4479c2",
   "metadata": {},
   "outputs": [],
   "source": [
    "#train_X=data[['Gender','Married','Dependents','Self_Employed','ApplicantIncome','CoapplicantIncome','LoanAmount','Credit_History' ]] ## all the data in X (Train set)\n",
    "#train_y=Loan_status  ## Loan status will be our Y"
   ]
  },
  {
   "cell_type": "code",
   "execution_count": 92,
   "id": "273614c9",
   "metadata": {},
   "outputs": [],
   "source": [
    "from sklearn.model_selection import train_test_split\n",
    "train_X,test_X,train_y,test_y=train_test_split(x,y,test_size=0.2,random_state=45)"
   ]
  },
  {
   "cell_type": "code",
   "execution_count": 93,
   "id": "3749b7c6",
   "metadata": {},
   "outputs": [
    {
     "name": "stdout",
     "output_type": "stream",
     "text": [
      "X train shape (4467, 3)\n",
      "y train shape (1117, 3)\n",
      "X test shape (4467,)\n",
      "y test shape (1117,)\n"
     ]
    }
   ],
   "source": [
    "print(\"X train shape\", train_X.shape)\n",
    "print(\"y train shape\", test_X.shape)\n",
    "print(\"X test shape\",train_y.shape)\n",
    "print(\"y test shape\", test_y.shape)"
   ]
  },
  {
   "cell_type": "code",
   "execution_count": 94,
   "id": "d613cdbb",
   "metadata": {},
   "outputs": [],
   "source": [
    "from sklearn.tree import DecisionTreeClassifier\n",
    "from sklearn.svm import SVC\n",
    "from sklearn.neighbors import KNeighborsClassifier\n",
    "from sklearn.naive_bayes import GaussianNB\n",
    "from sklearn.discriminant_analysis import LinearDiscriminantAnalysis\n",
    "from sklearn.linear_model import LogisticRegression\n",
    "from sklearn.ensemble import RandomForestClassifier"
   ]
  },
  {
   "cell_type": "code",
   "execution_count": 95,
   "id": "79eeff1f",
   "metadata": {},
   "outputs": [],
   "source": [
    "models=[]\n",
    "models.append((\"Logistic Regression\",LogisticRegression()))\n",
    "models.append((\"Decision Tree\",DecisionTreeClassifier()))\n",
    "models.append((\"Linear Discriminant Analysis\",LinearDiscriminantAnalysis()))\n",
    "models.append((\"Random Forest\",RandomForestClassifier()))\n",
    "models.append((\"Support Vector Classifier\",SVC()))\n",
    "models.append((\"K- Neirest Neighbour\",KNeighborsClassifier()))\n",
    "models.append((\"Naive Bayes\",GaussianNB()))"
   ]
  },
  {
   "cell_type": "code",
   "execution_count": 96,
   "id": "19301658",
   "metadata": {},
   "outputs": [],
   "source": [
    "scoring='accuracy'"
   ]
  },
  {
   "cell_type": "code",
   "execution_count": 97,
   "id": "51a0e85f",
   "metadata": {},
   "outputs": [],
   "source": [
    "from sklearn.model_selection import KFold \n",
    "from sklearn.model_selection import cross_val_score\n",
    "result=[]\n",
    "names=[]"
   ]
  },
  {
   "cell_type": "code",
   "execution_count": 98,
   "id": "884f105b",
   "metadata": {},
   "outputs": [
    {
     "name": "stdout",
     "output_type": "stream",
     "text": [
      "LogisticRegression()\n",
      "Logistic Regression 0.661301\n",
      "DecisionTreeClassifier()\n",
      "Decision Tree 0.661301\n",
      "LinearDiscriminantAnalysis()\n",
      "Linear Discriminant Analysis 0.661301\n",
      "RandomForestClassifier()\n",
      "Random Forest 0.661301\n",
      "SVC()\n",
      "Support Vector Classifier 0.661301\n",
      "KNeighborsClassifier()\n",
      "K- Neirest Neighbour 0.589667\n",
      "GaussianNB()\n",
      "Naive Bayes 0.661301\n"
     ]
    }
   ],
   "source": [
    "for name,model in models:\n",
    "    kfold=KFold(n_splits=10,random_state=0, shuffle=True)\n",
    "    cv_result=cross_val_score(model,train_X,train_y,cv=kfold,scoring=scoring)\n",
    "    result.append(cv_result)\n",
    "    names.append(name)\n",
    "    print(model)\n",
    "    print(\"%s %f\" % (name,cv_result.mean()))"
   ]
  },
  {
   "cell_type": "code",
   "execution_count": 99,
   "id": "5534fbca",
   "metadata": {},
   "outputs": [
    {
     "name": "stdout",
     "output_type": "stream",
     "text": [
      "Model Accuracy:-  0.6911369740376008\n",
      "[[  0 345]\n",
      " [  0 772]]\n",
      "              precision    recall  f1-score   support\n",
      "\n",
      "           0       0.00      0.00      0.00       345\n",
      "           1       0.69      1.00      0.82       772\n",
      "\n",
      "    accuracy                           0.69      1117\n",
      "   macro avg       0.35      0.50      0.41      1117\n",
      "weighted avg       0.48      0.69      0.56      1117\n",
      "\n"
     ]
    },
    {
     "name": "stderr",
     "output_type": "stream",
     "text": [
      "C:\\Users\\Neeraj\\anaconda3\\lib\\site-packages\\sklearn\\metrics\\_classification.py:1318: UndefinedMetricWarning: Precision and F-score are ill-defined and being set to 0.0 in labels with no predicted samples. Use `zero_division` parameter to control this behavior.\n",
      "  _warn_prf(average, modifier, msg_start, len(result))\n",
      "C:\\Users\\Neeraj\\anaconda3\\lib\\site-packages\\sklearn\\metrics\\_classification.py:1318: UndefinedMetricWarning: Precision and F-score are ill-defined and being set to 0.0 in labels with no predicted samples. Use `zero_division` parameter to control this behavior.\n",
      "  _warn_prf(average, modifier, msg_start, len(result))\n",
      "C:\\Users\\Neeraj\\anaconda3\\lib\\site-packages\\sklearn\\metrics\\_classification.py:1318: UndefinedMetricWarning: Precision and F-score are ill-defined and being set to 0.0 in labels with no predicted samples. Use `zero_division` parameter to control this behavior.\n",
      "  _warn_prf(average, modifier, msg_start, len(result))\n"
     ]
    }
   ],
   "source": [
    "from sklearn.metrics import accuracy_score\n",
    "from sklearn.metrics import confusion_matrix\n",
    "from sklearn.metrics import classification_report\n",
    "\n",
    "LR=LogisticRegression()\n",
    "LR.fit(train_X,train_y)\n",
    "pred=LR.predict(test_X)\n",
    "print(\"Model Accuracy:- \",accuracy_score(test_y,pred))\n",
    "print(confusion_matrix(test_y,pred))\n",
    "print(classification_report(test_y,pred))"
   ]
  },
  {
   "cell_type": "code",
   "execution_count": 80,
   "id": "2b38a046",
   "metadata": {},
   "outputs": [],
   "source": [
    "LR=LogisticRegression()"
   ]
  },
  {
   "cell_type": "code",
   "execution_count": 81,
   "id": "0d7f3420",
   "metadata": {},
   "outputs": [
    {
     "data": {
      "text/plain": [
       "LogisticRegression()"
      ]
     },
     "execution_count": 81,
     "metadata": {},
     "output_type": "execute_result"
    }
   ],
   "source": [
    "LR.fit(train_X,train_y)"
   ]
  },
  {
   "cell_type": "code",
   "execution_count": 82,
   "id": "b333eca7",
   "metadata": {},
   "outputs": [],
   "source": [
    "pred=LR.predict(test_X)"
   ]
  },
  {
   "cell_type": "code",
   "execution_count": 83,
   "id": "dd40008e",
   "metadata": {},
   "outputs": [
    {
     "name": "stdout",
     "output_type": "stream",
     "text": [
      "accuracy_score on train dataset :  0.6633087083053504\n",
      "accuracy_score on test dataset :  0.6830796777081468\n"
     ]
    }
   ],
   "source": [
    "#Predict Output\n",
    "predict_train = LR.fit(train_X, train_y).predict(train_X)\n",
    "\n",
    "# Accuray Score on train dataset\n",
    "accuracy_train = accuracy_score(train_y,predict_train)\n",
    "print('accuracy_score on train dataset : ', accuracy_train)\n",
    "\n",
    "\n",
    "# predict the target on the test dataset\n",
    "predict_test = LR.predict(test_X)\n",
    "\n",
    "# Accuracy Score on test dataset\n",
    "accuracy_test = accuracy_score(test_y,predict_test)\n",
    "print('accuracy_score on test dataset : ', accuracy_test)"
   ]
  },
  {
   "cell_type": "code",
   "execution_count": null,
   "id": "edabfcdc",
   "metadata": {},
   "outputs": [],
   "source": []
  },
  {
   "cell_type": "code",
   "execution_count": null,
   "id": "895c5c4f",
   "metadata": {},
   "outputs": [],
   "source": []
  }
 ],
 "metadata": {
  "kernelspec": {
   "display_name": "Python 3 (ipykernel)",
   "language": "python",
   "name": "python3"
  },
  "language_info": {
   "codemirror_mode": {
    "name": "ipython",
    "version": 3
   },
   "file_extension": ".py",
   "mimetype": "text/x-python",
   "name": "python",
   "nbconvert_exporter": "python",
   "pygments_lexer": "ipython3",
   "version": "3.9.12"
  }
 },
 "nbformat": 4,
 "nbformat_minor": 5
}
